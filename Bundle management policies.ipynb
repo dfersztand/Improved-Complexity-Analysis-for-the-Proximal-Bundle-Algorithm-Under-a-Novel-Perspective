{
 "cells": [
  {
   "cell_type": "markdown",
   "metadata": {},
   "source": [
    "We solve :\n",
    "$min_x\\in R^n \\quad \\|x\\|^2/2 + max \\{\\quad y^T x + y [n+1] \\}$ subject to $Ay\\leq b,$ and $-1\\leq y\\leq 1$"
   ]
  },
  {
   "cell_type": "code",
   "execution_count": null,
   "metadata": {},
   "outputs": [],
   "source": [
    "# using Pkg\n",
    "using Gurobi\n",
    "using JuMP\n",
    "using Plots\n",
    "using Random\n",
    "using SpecialFunctions\n",
    "using Ipopt\n",
    "using Statistics\n",
    "using HDF5, JLD"
   ]
  },
  {
   "cell_type": "code",
   "execution_count": null,
   "metadata": {},
   "outputs": [],
   "source": [
    "m = 40\n",
    "n = 5*m\n",
    "\n",
    "Random.seed!(42) \n",
    "\n",
    "A = 2 .*(rand(m, n+1) .- 0.5)\n",
    "b = 2 .*(rand(m) .- 0.5)\n",
    "c = 2 .*(rand(n) .-0.5)\n",
    "x_init = 2 .*(rand(n) .- 0.5)\n",
    "y_min = -1\n",
    "y_max = 1\n",
    "\n",
    "rho = 1\n",
    "delta = 1e-3\n",
    "epsilon = 2e-3\n",
    "e = 1/2"
   ]
  },
  {
   "cell_type": "code",
   "execution_count": null,
   "metadata": {},
   "outputs": [],
   "source": [
    "function make_cut(x_value, i_model)\n",
    "    @objective(i_model, Max, sum(i_model.obj_dict[:y][1:end-1] .* x_value) + i_model.obj_dict[:y][end]);\n",
    "    optimize!(i_model)\n",
    "    obj_value = objective_value(i_model)\n",
    "    y_opt = value.(i_model.obj_dict[:y])\n",
    "    return obj_value, y_opt\n",
    "end"
   ]
  },
  {
   "cell_type": "code",
   "execution_count": null,
   "metadata": {},
   "outputs": [],
   "source": [
    "function add_cut(x_value, m_model, dict_cut, i_model, iter)\n",
    "    obj_value, y_opt = make_cut(x_value, i_model)\n",
    "    dict_cut[iter] = @constraint(m_model, m_model.obj_dict[:z]>= sum(y_opt[1:end-1].*m_model.obj_dict[:x]) + y_opt[end]);\n",
    "    return obj_value\n",
    "end"
   ]
  },
  {
   "cell_type": "code",
   "execution_count": null,
   "metadata": {},
   "outputs": [],
   "source": [
    "function make_inner_model(n,m,A,b)\n",
    "    inner_model = Model(Gurobi.Optimizer)\n",
    "    set_optimizer_attribute(inner_model, \"OutputFlag\", 0)\n",
    "    set_optimizer_attribute(inner_model, \"FeasibilityTol\", 1e-7)\n",
    "    set_optimizer_attribute(inner_model, \"OptimalityTol\", 1e-7)\n",
    "    # set_optimizer_attribute(inner_model, \"Threads\", 32)\n",
    "    @variable(inner_model, y[1:n+1])\n",
    "\n",
    "    @constraint(inner_model, y.<=1)\n",
    "    @constraint(inner_model, y.>=-1)\n",
    "\n",
    "    @constraint(inner_model, con[i=1:m], sum(A[i, j] * y[j] for j in 1:n+1) <= b[i]);\n",
    "    return inner_model\n",
    "end"
   ]
  },
  {
   "cell_type": "code",
   "execution_count": null,
   "metadata": {},
   "outputs": [],
   "source": [
    "function make_master_model(n, rho, x_center)\n",
    "    master_model =  Model(Ipopt.Optimizer)\n",
    "#     set_optimizer_attribute(master_model, \"OutputFlag\", 0)\n",
    "    set_optimizer_attribute(master_model, \"print_level\", 0)\n",
    "    # set_optimizer_attribute(master_model, \"Threads\", 32)\n",
    "    @variable(master_model, x[1:n])\n",
    "    @variable(master_model, z)\n",
    "    \n",
    "#     @NLobjective(master_model, Min,log(exp(sum(x[i]^2 for i in 1:n))+1) + z + rho*sum((x[i]-x_center[i])^2 for i in 1:n));\n",
    "    @NLobjective(master_model, Min,e*sum(x[i]^2 for i in 1:n) + z + rho*sum((x[i]-x_center[i])^2 for i in 1:n));\n",
    "    # @NLobjective(master_model, Min,sum(x[i]*c[i] for i in 1:n) + z + rho*sum((x[i]-x_center[i])^2 for i in 1:n));\n",
    "    \n",
    "    return master_model\n",
    "end"
   ]
  },
  {
   "cell_type": "code",
   "execution_count": null,
   "metadata": {},
   "outputs": [],
   "source": [
    "function update_proximal_center(m_model, x_c, rho)\n",
    "    n = length(m_model.obj_dict[:x])\n",
    "    @NLobjective(m_model, Min, e*sum(m_model.obj_dict[:x][i]^2 for i in 1:n) + m_model.obj_dict[:z] + rho*sum((m_model.obj_dict[:x][i]-x_c[i])^2 for i in 1:n));\n",
    "    # @NLobjective(m_model, Min, sum(m_model.obj_dict[:x][i]*c[i] for i in 1:n) + m_model.obj_dict[:z] + rho*sum((m_model.obj_dict[:x][i]-x_center[i])^2 for i in 1:n));\n",
    "\n",
    "#     @NLobjective(m_model, Min, log(exp(sum(m_model.obj_dict[:x][i] for i in 1:n))+1) + m_model.obj_dict[:z] + rho*sum((m_model.obj_dict[:x][i]-x_center[i])^2 for i in 1:n));\n",
    "end"
   ]
  },
  {
   "cell_type": "code",
   "execution_count": null,
   "metadata": {},
   "outputs": [],
   "source": [
    "function keep_active_cuts(dict_cut, m_model,n, verbose)\n",
    "    dual_dict_cut = Dict(key => dual(value) for (key, value) in dict_cut)\n",
    "    for k in (keys(dual_dict_cut))\n",
    "        if (dual_dict_cut[k])<1e-5\n",
    "            if verbose\n",
    "                println(\"Cut \",k,\" deleted\")\n",
    "            end\n",
    "            delete(m_model, dict_cut[k])\n",
    "            pop!(dict_cut, k)\n",
    "            pop!(dual_dict_cut, k)\n",
    "        end\n",
    "    end\n",
    "    if length(dual_dict_cut)>n+1\n",
    "        to_discard = keys(sort(collect(dual_dict_cut), by = x -> x[2])[1:length(dual_dict_cut)-n-1])\n",
    "        for k in to_discard\n",
    "            if verbose\n",
    "                println(\"Cut \",k,\" deleted\")\n",
    "            end\n",
    "            delete(m_model, dict_cut[k])\n",
    "            pop!(dict_cut, k)\n",
    "        end\n",
    "    end\n",
    "end"
   ]
  },
  {
   "cell_type": "code",
   "execution_count": null,
   "metadata": {},
   "outputs": [],
   "source": [
    "function keep_all_cuts(dict_cut, master_model, verbose)\n",
    "end\n",
    "\n",
    "function clear_all_cut_but(dict_cut, master_model, lst_to_keep, verbose)\n",
    "    for k in keys(dict_cut)\n",
    "        if !(k in lst_to_keep)\n",
    "            if verbose\n",
    "                println(\"Cut \",k,\" deleted\")\n",
    "            end\n",
    "            delete(master_model, dict_cut[k])\n",
    "            pop!(dict_cut, k)\n",
    "        end\n",
    "    end\n",
    "end"
   ]
  },
  {
   "cell_type": "code",
   "execution_count": null,
   "metadata": {},
   "outputs": [],
   "source": [
    "# manage_bundle = KEEP_ALL\n",
    "@enum Manage_bundle Keep_all Keep_active Keep_active_null_step Kelley\n",
    "color_dic = Dict(Keep_all=>\"green\", Keep_active=>\"red\", Keep_active_null_step=>\"blue\",);\n",
    "dic_names_method = Dict(Keep_all=>\"All cuts\", Keep_active=>\"Active cuts\", Keep_active_null_step=>\"Active cuts null steps only\");"
   ]
  },
  {
   "cell_type": "code",
   "execution_count": null,
   "metadata": {
    "scrolled": true
   },
   "outputs": [],
   "source": [
    "function solve(x_init, n,m,A,b,rho,epsilon,delta, manage_bundle, goal_obj, verbose = false)\n",
    "    x_value = x_init\n",
    "    inner_model = make_inner_model(n,m,A,b)\n",
    "    master_model = make_master_model(n, rho, x_init)\n",
    "    dict_cut = Dict()\n",
    "    master_obj_value = Inf\n",
    "    last_master_obj_value = Inf\n",
    "    f_k_value = Inf\n",
    "    g_value = Inf\n",
    "    f_value = -Inf \n",
    "    list_number_null_steps = [1]\n",
    "    number_serious_steps = 0\n",
    "    bundle_size = [0]\n",
    "    t = time()\n",
    "    list_obj_value_gap = []\n",
    "    max_iter = 100000\n",
    "    for iter in 1:max_iter\n",
    "        last_f_value = f_value\n",
    "        f_value = add_cut(x_value, master_model, dict_cut, inner_model, iter)\n",
    "        \n",
    "        if iter >= 2\n",
    "            master_obj_value = g_value + f_value\n",
    "            push!(list_obj_value_gap, master_obj_value)\n",
    "            if verbose\n",
    "                println(\"Objective value master problem \", master_obj_value)\n",
    "            end\n",
    "            primal_gap = f_value - f_k_value\n",
    "            if verbose\n",
    "                println(\"----------- ITERATION \", iter, \" ---------\")\n",
    "                println(\"The primal_gap is: \", primal_gap)\n",
    "            end\n",
    "            if primal_gap<delta\n",
    "            # if (last_f_value - f_value)>0.5*(last_f_value - f_k_value)\n",
    "                if goal_obj<-1e9\n",
    "                    if primal_gap<delta\n",
    "                       break \n",
    "                    end\n",
    "                end\n",
    "                number_serious_steps+=1\n",
    "                if master_obj_value - goal_obj < epsilon\n",
    "                    println(\"Number of iterations : \", iter)\n",
    "                    break\n",
    "                else\n",
    "                    last_master_obj_value = master_obj_value\n",
    "                end\n",
    "                push!(list_number_null_steps, 0)\n",
    "                update_proximal_center(master_model, x_value, rho)\n",
    "                end\n",
    "                if manage_bundle == Keep_active_null_step\n",
    "                    clear_all_cut_but(dict_cut, master_model, [iter], verbose)\n",
    "                end\n",
    "                if verbose\n",
    "                    println(\"*****NEW PROX CENTER*****\")\n",
    "                end\n",
    "            else\n",
    "                list_number_null_steps[number_serious_steps+1]+=1\n",
    "            end\n",
    "        end\n",
    "        optimize!(master_model)\n",
    "#         g_value = log(exp(value(sum(master_model.obj_dict[:x][i]^2 for i in 1:n)))+1)\n",
    "        g_value =  e*value(sum(master_model.obj_dict[:x][i]^2 for i in 1:n))\n",
    "        # g_value =  value(sum(master_model.obj_dict[:x][i]*c[i] for i in 1:n))\n",
    "        \n",
    "        x_value = value.(master_model.obj_dict[:x])\n",
    "        f_k_value = value(master_model.obj_dict[:z])\n",
    "        if manage_bundle == Keep_all\n",
    "            keep_all_cuts(dict_cut, master_model,verbose)\n",
    "        else\n",
    "            keep_active_cuts(dict_cut, master_model, n, verbose)\n",
    "        end\n",
    "        push!(bundle_size, length(dict_cut))\n",
    "#         println(g_value, \"  \", f_value)\n",
    "        if iter== max_iter\n",
    "            println(\"optimization_failed\")\n",
    "            runtime = 3600\n",
    "        end\n",
    "    end\n",
    "    runtime = time()-t\n",
    "    \n",
    "    return dict_cut,master_model, list_number_null_steps, number_serious_steps, bundle_size,runtime, list_obj_value_gap\n",
    "end"
   ]
  },
  {
   "cell_type": "code",
   "execution_count": null,
   "metadata": {},
   "outputs": [],
   "source": [
    "function find_optimal_value(A,b,n,m,e)\n",
    "    dual_model =  Model(Ipopt.Optimizer)\n",
    "    #     set_optimizer_attribute(master_model, \"OutputFlag\", 0)\n",
    "    set_optimizer_attribute(dual_model, \"print_level\", 0)\n",
    "    # set_optimizer_attribute(master_model, \"Threads\", 32)\n",
    "    @variable(dual_model, x[1:n])\n",
    "    @variable(dual_model, lambda[1:m]<=0)\n",
    "    @variable(dual_model, mu_g_plus[1:n+1]<=0)\n",
    "    @variable(dual_model, mu_g_moins[1:n+1]>=0)\n",
    "    @variable(dual_model, z[1:n+1])\n",
    "\n",
    "    @constraint(dual_model, con[i=1:n], x[i] == z[i])\n",
    "    @constraint(dual_model, z[n+1]==1)\n",
    "\n",
    "    @constraint(dual_model, A' * lambda + mu_g_plus + mu_g_moins + z == 0)\n",
    "\n",
    "\n",
    "    #     @NLobjective(master_model, Min,log(exp(sum(x[i]^2 for i in 1:n))+1) + z + rho*sum((x[i]-x_center[i])^2 for i in 1:n));\n",
    "    @NLobjective(dual_model, Min,e*sum(x[i]^2 for i in 1:n) - sum(lambda[j]*b[j] for j in 1:m) - sum(mu_g_plus[i] - mu_g_moins[i] for i in 1:n+1) )\n",
    "    optimize!(dual_model)\n",
    "    return objective_value(dual_model)\n",
    "end\n",
    "# @NLobjective(master_model, Min,sum(x[i]*c[i] for i in 1:n) + z + rho*sum((x[i]-x_center[i])^2 for i in 1:n));\n"
   ]
  },
  {
   "cell_type": "code",
   "execution_count": null,
   "metadata": {},
   "outputs": [],
   "source": [
    "goal_obj = find_optimal_value(A,b,n,m,e)"
   ]
  },
  {
   "cell_type": "markdown",
   "metadata": {},
   "source": [
    "# Bundle size"
   ]
  },
  {
   "cell_type": "code",
   "execution_count": null,
   "metadata": {},
   "outputs": [],
   "source": [
    "# plot(dic_gaps)\n",
    "manage_bundle_values = [Keep_active_null_step, Keep_active, Keep_all]"
   ]
  },
  {
   "cell_type": "code",
   "execution_count": null,
   "metadata": {},
   "outputs": [],
   "source": [
    "manage_bundle_values = [Keep_active_null_step, Keep_active, Keep_all]\n",
    "dic_gaps = Dict()\n",
    "dic_bundle_size = Dict()\n",
    "# Plot the bundle sizes for each value of manage_bundle\n",
    "for manage_bundle in manage_bundle_values\n",
    "    dict_cut, master_model, list_number_null_steps, number_serious_steps, bundle_size, runtime, list_obj_value_gap = solve(x_init, n, m, A, b, rho, epsilon, delta, manage_bundle, goal_obj, false)\n",
    "    println(manage_bundle, \" -- Runtime : \", runtime) \n",
    "    dic_bundle_size[manage_bundle] = bundle_size\n",
    "    dic_gaps[manage_bundle] = list_obj_value_gap .- goal_obj\n",
    "end"
   ]
  },
  {
   "cell_type": "code",
   "execution_count": null,
   "metadata": {},
   "outputs": [],
   "source": [
    "p = plot(size = (600,500))\n",
    "for manage_bundle in manage_bundle_values\n",
    "    plot!(dic_bundle_size[manage_bundle], label=dic_names_method[manage_bundle], color = color_dic[manage_bundle],linewidth=4)\n",
    "end\n",
    "hline!([n+1], linestyle=:dash, label=\"n+1\", color = \"grey\")\n",
    "xlabel!(\"Iterations\")\n",
    "ylabel!(\"Bundle Size\")\n",
    "plot!(legendfontsize=14)\n",
    "# title!(\"Bundle Size for Different Bundle management strategies\")\n",
    "savefig(p, \"Bundle_size.pdf\")  \n",
    "plot!()"
   ]
  },
  {
   "cell_type": "markdown",
   "metadata": {},
   "source": [
    "# Objective value gap"
   ]
  },
  {
   "cell_type": "code",
   "execution_count": null,
   "metadata": {},
   "outputs": [],
   "source": [
    "p = plot(size = (600,500))\n",
    "for manage_bundle in manage_bundle_values\n",
    "    plot!(dic_gaps[manage_bundle], label = \"\", color = color_dic[manage_bundle],linewidth=4)\n",
    "end\n",
    "hline!([epsilon], linestyle=:dash, label=\"Tolerance\", color = \"grey\")\n",
    "xlabel!(\"Iterations\")\n",
    "ylabel!(\"Optimality Gap\")\n",
    "plot!(legendfontsize=14)\n",
    "# y_ticks = range(1e-4, stop=1e1, length=20)\n",
    "# title!(\"Progress for different bundle management strategies\")\n",
    "plot!(yaxis=:log, yticks = [1e-5, 1e-4, 1e-3, 1e-2,1e-1, 1, 10])\n",
    "savefig(p, \"Optimality_gap.pdf\") \n",
    "plot!()"
   ]
  },
  {
   "cell_type": "markdown",
   "metadata": {},
   "source": [
    "# Runtime"
   ]
  },
  {
   "cell_type": "code",
   "execution_count": null,
   "metadata": {},
   "outputs": [],
   "source": [
    "manage_bundle_values = [Keep_active_null_step, Keep_active, Keep_all]\n",
    "seeds = [123, 456, 789, 101, 112, 131, 415, 161, 718, 192, 202, 303, 404, 505, 606, 707, 808, 909, 1010, 1111]\n",
    "# Define initial values\n",
    "step_size = 5\n",
    "m_values = 10:step_size:55\n",
    "ratio = 5"
   ]
  },
  {
   "cell_type": "code",
   "execution_count": null,
   "metadata": {
    "scrolled": true
   },
   "outputs": [],
   "source": [
    "runtime_values_by_seed = Dict(s=>Dict() for s in seeds)\n",
    "\n",
    "# Loop over different m values\n",
    "for m in m_values\n",
    "    save(\"runtime_values_by_seed_50.jld\", \"runtime_values_by_seed\", runtime_values_by_seed)\n",
    "    for seed in seeds\n",
    "        n = ratio*m\n",
    "        # Initialize A, b, x_init, and x_center\n",
    "        Random.seed!(seed)\n",
    "        A = rand(m, n+1) .- 0.5\n",
    "        b = rand(m) .- 0.5\n",
    "        x_init = rand(n) .- 0.5\n",
    "        #FIND THE VALUE OF THE PROBLEM\n",
    "        goal_obj = find_optimal_value(A,b,n,m,e)\n",
    "        for manage_bundle in manage_bundle_values\n",
    "            println(m,\"   \", manage_bundle)\n",
    "            # Call the solve function directly and retrieve runtime\n",
    "            _, _, _, _, _, runtime, list_obj_value_gap = solve(x_init, n, m, A, b, rho, epsilon, delta, manage_bundle, goal_obj, false)\n",
    "            println(\"runtime : \", runtime, \" --- obj_value = \", list_obj_value_gap[end])\n",
    "            # Store runtime for the current manage_bundle\n",
    "            if haskey(runtime_values_by_seed[seed], manage_bundle)\n",
    "                push!(runtime_values_by_seed[seed][manage_bundle], runtime)\n",
    "            else\n",
    "                runtime_values_by_seed[seed][manage_bundle] = [runtime]\n",
    "            end\n",
    "        end\n",
    "    end\n",
    "end"
   ]
  },
  {
   "cell_type": "code",
   "execution_count": null,
   "metadata": {},
   "outputs": [],
   "source": [
    "bundle_m = keys(runtime_values_by_seed[seeds[1]])\n",
    "number_sizes = length(m_values)\n",
    "number_sizes = length(runtime_values_by_seed[456][Keep_all])\n",
    "avg_runtimes = Dict()\n",
    "std_runtimes = Dict()\n",
    "q_25_runtimes = Dict()\n",
    "q_75_runtimes = Dict()\n",
    "q_10_runtimes = Dict()\n",
    "q_90_runtimes = Dict()\n",
    "for method in bundle_m\n",
    "    avg_runtimes[method] = []\n",
    "    std_runtimes[method] = []\n",
    "    q_25_runtimes[method] = []\n",
    "    q_75_runtimes[method] = []\n",
    "    q_10_runtimes[method] = []\n",
    "    q_90_runtimes[method] = []\n",
    "    \n",
    "    for i in 1:number_sizes\n",
    "        l = []\n",
    "        for seed in seeds\n",
    "            push!(l, runtime_values_by_seed[seed][method][i])\n",
    "        end\n",
    "        push!(avg_runtimes[method], mean(l))\n",
    "        push!(std_runtimes[method], std(l))\n",
    "        push!(q_25_runtimes[method], quantile(l, 0.25))\n",
    "        push!(q_75_runtimes[method], quantile(l, 0.75))\n",
    "        push!(q_10_runtimes[method], quantile(l, 0.10))\n",
    "        push!(q_90_runtimes[method], quantile(l, 0.90))\n",
    "    end\n",
    "end"
   ]
  },
  {
   "cell_type": "code",
   "execution_count": null,
   "metadata": {},
   "outputs": [],
   "source": [
    "p = plot(size=(600, 500))\n",
    "for manage_bundle in manage_bundle_values\n",
    "    runtime = avg_runtimes[manage_bundle]\n",
    "    stds = std_runtimes[manage_bundle]\n",
    "    q25 = q_25_runtimes[manage_bundle]\n",
    "    q75 = q_75_runtimes[manage_bundle]\n",
    "    q10 = q_10_runtimes[manage_bundle]\n",
    "    q90 = q_90_runtimes[manage_bundle]\n",
    "   # plot!(m_values .* ratio, yerr=stds./sqrt(length(seeds)), runtime, label = dic_names_method[manage_bundle], color = color_dic[manage_bundle], linewidth = 4)\n",
    "    # q_25_runtimes\n",
    "    # plot!(m_values .* ratio, q25, fillrange = q75, fillalpha = 0.35, c = 1, label = dic_names_method[manage_bundle], color = color_dic[manage_bundle])\n",
    "    plot!(m_values .* ratio, runtime, ribbon=(runtime .- q25, q75 .- runtime), label=dic_names_method[manage_bundle], fillalpha=0.2, color = color_dic[manage_bundle])\n",
    "end\n",
    "xlabel!(\"n, dimension of the problem\")\n",
    "ylabel!(\"Runtime (s)\")\n",
    "plot!(legendfontsize=14, xticks = m_values .* ratio)\n",
    "# title!(\"Runtime for different bundle management strategies\")\n",
    "savefig(p, \"Runtimes.pdf\") \n",
    "plot!()"
   ]
  },
  {
   "cell_type": "code",
   "execution_count": null,
   "metadata": {},
   "outputs": [],
   "source": [
    "save(\"runtime_values_by_seed_50.jld\", \"runtime_values_by_seed\", runtime_values_by_seed)\n",
    "runtime_values_by_seed = load(\"runtime_values_by_seed_50.jld\")[\"runtime_values_by_seed\"]"
   ]
  }
 ],
 "metadata": {
  "@webio": {
   "lastCommId": null,
   "lastKernelId": null
  },
  "kernelspec": {
   "display_name": "Julia MyKernel 1.9.2",
   "language": "julia",
   "name": "julia-mykernel-1.9"
  },
  "language_info": {
   "file_extension": ".jl",
   "mimetype": "application/julia",
   "name": "julia",
   "version": "1.9.2"
  }
 },
 "nbformat": 4,
 "nbformat_minor": 4
}
